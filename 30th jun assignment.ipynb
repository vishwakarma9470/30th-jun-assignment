{
 "cells": [
  {
   "cell_type": "markdown",
   "id": "931753cf",
   "metadata": {},
   "source": [
    "Q1.write a program to accept percentage from the user and display the grade according to the following criteria :"
   ]
  },
  {
   "cell_type": "code",
   "execution_count": 4,
   "id": "17ff5792",
   "metadata": {},
   "outputs": [
    {
     "name": "stdout",
     "output_type": "stream",
     "text": [
      "enter the marks for student98\n",
      "you will be get A grade\n"
     ]
    }
   ],
   "source": [
    "\n",
    "marks = int(input(\"enter the marks for student\"))\n",
    "if marks > 90 :\n",
    "    print(\"you will be get A grade\")\n",
    "elif marks >80 and marks <= 90:\n",
    "    print(\"you will be get B grade\")\n",
    "elif marks >= 60 and marks <= 80:\n",
    "    print(\"you will be get C grade\")\n",
    "elif marks <60:\n",
    "    print(\"you will be get D grade\")"
   ]
  },
  {
   "cell_type": "markdown",
   "id": "26fe91b2",
   "metadata": {},
   "source": [
    "Q2.write a program to acceptht ecost price of a bike and display the road tax to be paid according to the following criteria :"
   ]
  },
  {
   "cell_type": "code",
   "execution_count": 8,
   "id": "1ace8ab6",
   "metadata": {},
   "outputs": [
    {
     "name": "stdout",
     "output_type": "stream",
     "text": [
      "enter the cost price of a bike 600000\n",
      "you are giving 15% tax for own bike\n"
     ]
    }
   ],
   "source": [
    "cost_price = int(input(\"enter the cost price of a bike \"))\n",
    "if cost_price > 100000:\n",
    "    print(\"you are giving 15% tax for own bike\")\n",
    "elif cost_price >50000 and cost_price <= 100000 :\n",
    "    print(\"you are giving 10% tax for own bike\")\n",
    "elif cost_price <= 50000:\n",
    "    print(\"you are giving 5% tax for own bike\")"
   ]
  },
  {
   "cell_type": "markdown",
   "id": "f2242b4d",
   "metadata": {},
   "source": [
    "Q3.Aceept any city from the user and display monuments of that city."
   ]
  },
  {
   "cell_type": "code",
   "execution_count": 16,
   "id": "8846d5c1",
   "metadata": {},
   "outputs": [
    {
     "name": "stdout",
     "output_type": "stream",
     "text": [
      "enter the name of a monuments :red_fort\n",
      "the monuments is located in delhi\n"
     ]
    }
   ],
   "source": [
    "monuments = str(input(\"enter the name of a monuments :\"))\n",
    "if monuments == \"red_fort\":\n",
    "    print(\"the monuments is located in delhi\")\n",
    "elif monuments ==\"Taj_Mahal\" :\n",
    "    print(\"the monuments is located in agra\")\n",
    "elif monuments == \"jal_mahal\":\n",
    "    print(\"the monuments is located in jaipur\")\n",
    "    "
   ]
  },
  {
   "cell_type": "markdown",
   "id": "3276c749",
   "metadata": {},
   "source": [
    "Q4. check how many times a given number can be divided by 3 before it is less than or equal to 10."
   ]
  },
  {
   "cell_type": "code",
   "execution_count": 1,
   "id": "a89e381e",
   "metadata": {},
   "outputs": [
    {
     "name": "stdout",
     "output_type": "stream",
     "text": [
      "enter a number : 87\n"
     ]
    }
   ],
   "source": [
    "num = int(input(\"enter a number : \"))\n",
    "count = 0\n",
    "while num > 10:\n",
    "    num /= 3\n",
    "    count += 1 \n"
   ]
  },
  {
   "cell_type": "markdown",
   "id": "651d3c36",
   "metadata": {},
   "source": [
    "Q7.reverse a while loop to display numbers from 10 to 1."
   ]
  },
  {
   "cell_type": "code",
   "execution_count": 2,
   "id": "111ca0b2",
   "metadata": {},
   "outputs": [
    {
     "name": "stdout",
     "output_type": "stream",
     "text": [
      "10\n",
      "9\n",
      "8\n",
      "7\n",
      "6\n",
      "5\n",
      "4\n",
      "3\n",
      "2\n",
      "1\n"
     ]
    }
   ],
   "source": [
    "n = 10\n",
    "while n >= 1:\n",
    "    print(n)\n",
    "    n -= 1"
   ]
  },
  {
   "cell_type": "markdown",
   "id": "575f03e2",
   "metadata": {},
   "source": [
    "Q6. use nested while loop to print 3 different patterns."
   ]
  },
  {
   "cell_type": "code",
   "execution_count": 5,
   "id": "ef22edb5",
   "metadata": {},
   "outputs": [
    {
     "name": "stdout",
     "output_type": "stream",
     "text": [
      "*\n",
      "**\n",
      "***\n",
      "****\n",
      "*****\n"
     ]
    }
   ],
   "source": [
    "i = 1\n",
    "while i <= 5:\n",
    "    j = 1\n",
    "    while j<= i:\n",
    "        print(\"*\",end=\"\")\n",
    "        j += 1\n",
    "    print()\n",
    "    i += 1"
   ]
  },
  {
   "cell_type": "code",
   "execution_count": 4,
   "id": "dc9415e2",
   "metadata": {},
   "outputs": [
    {
     "name": "stdout",
     "output_type": "stream",
     "text": [
      "*\n",
      "**\n",
      "***\n",
      "****\n",
      "*****\n"
     ]
    }
   ],
   "source": [
    "i = 1\n",
    "while i <= 5:\n",
    "    j = 1\n",
    "    while j <= 5 - i:\n",
    "        print(\"\", end=\"\")\n",
    "        j += 1\n",
    "    k = 1\n",
    "    while k <= i:\n",
    "        print(\"*\", end=\"\")\n",
    "        k += 1\n",
    "    print()\n",
    "    i += 1"
   ]
  },
  {
   "cell_type": "code",
   "execution_count": 7,
   "id": "dd1f6c90",
   "metadata": {},
   "outputs": [
    {
     "name": "stdout",
     "output_type": "stream",
     "text": [
      "    *\n",
      "   ***\n",
      "  *****\n",
      " *******\n",
      "*********\n"
     ]
    }
   ],
   "source": [
    "i = 1 \n",
    "while i <= 5:\n",
    "    j = 1\n",
    "    while j <= 5 - i:\n",
    "        print(\" \",end=\"\")\n",
    "        j += 1\n",
    "    k = 1\n",
    "    while k <= (2 * i) - 1:\n",
    "        print(\"*\", end=\"\")\n",
    "        k += 1\n",
    "    print()\n",
    "    i +=1"
   ]
  },
  {
   "cell_type": "markdown",
   "id": "6a45c3c9",
   "metadata": {},
   "source": [
    "Q5.why and when to use while loop in python give a detailed description with example"
   ]
  },
  {
   "cell_type": "code",
   "execution_count": 3,
   "id": "fa16711f",
   "metadata": {},
   "outputs": [
    {
     "name": "stdout",
     "output_type": "stream",
     "text": [
      "Enter a positive number: 46\n"
     ]
    }
   ],
   "source": [
    "num = 0\n",
    "while num <= 0:\n",
    "    num = int(input(\"Enter a positive number: \"))\n"
   ]
  },
  {
   "cell_type": "markdown",
   "id": "1a4036f0",
   "metadata": {},
   "source": [
    "In this code, we first initialize the variable num to 0. We then enter a while loop that will keep asking the user for input until they provide a positive number. The condition for the loop is num <= 0, so the loop will continue to iterate as long as num is less than or equal to 0.\n",
    "\n",
    "Inside the loop, we use the input() function to ask the user to enter a number, and the int() function to convert their input to an integer. We then assign this value to the variable num.\n",
    "\n",
    "If the user enters a positive number (i.e., a number greater than 0), then the condition num <= 0 will be false, and the loop will exit. If the user enters a non-positive number (i.e., a number less than or equal to 0), then the condition will remain true, and the loop will iterate again, asking the user to enter a number."
   ]
  },
  {
   "cell_type": "code",
   "execution_count": 4,
   "id": "633f3c73",
   "metadata": {},
   "outputs": [
    {
     "ename": "SyntaxError",
     "evalue": "invalid syntax (1858335363.py, line 1)",
     "output_type": "error",
     "traceback": [
      "\u001b[1;36m  Cell \u001b[1;32mIn[4], line 1\u001b[1;36m\u001b[0m\n\u001b[1;33m    Q8 = Q7    this repeat a code\u001b[0m\n\u001b[1;37m               ^\u001b[0m\n\u001b[1;31mSyntaxError\u001b[0m\u001b[1;31m:\u001b[0m invalid syntax\n"
     ]
    }
   ],
   "source": [
    "Q8 = Q7    this repeat a code \n"
   ]
  },
  {
   "cell_type": "code",
   "execution_count": null,
   "id": "793aa498",
   "metadata": {},
   "outputs": [],
   "source": []
  }
 ],
 "metadata": {
  "kernelspec": {
   "display_name": "Python 3 (ipykernel)",
   "language": "python",
   "name": "python3"
  },
  "language_info": {
   "codemirror_mode": {
    "name": "ipython",
    "version": 3
   },
   "file_extension": ".py",
   "mimetype": "text/x-python",
   "name": "python",
   "nbconvert_exporter": "python",
   "pygments_lexer": "ipython3",
   "version": "3.10.10"
  }
 },
 "nbformat": 4,
 "nbformat_minor": 5
}
